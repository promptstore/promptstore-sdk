{
 "cells": [
  {
   "cell_type": "code",
   "execution_count": 1,
   "id": "a0aee2ab-7408-49dd-93a0-616c7e353826",
   "metadata": {},
   "outputs": [],
   "source": [
    "const dotenv = require('dotenv');\n",
    "const logger = require('./logger');\n",
    "const { PromptStore } = require('./promptstore');"
   ]
  },
  {
   "cell_type": "code",
   "execution_count": null,
   "id": "53dfafac-f2aa-46e0-9266-4d1d98367ba8",
   "metadata": {},
   "outputs": [],
   "source": [
    "dotenv.config();"
   ]
  },
  {
   "cell_type": "code",
   "execution_count": 3,
   "id": "32fe384e-4d40-418a-807e-a231729f3916",
   "metadata": {},
   "outputs": [],
   "source": [
    "const ps = new PromptStore({ logger: logger });"
   ]
  },
  {
   "cell_type": "code",
   "execution_count": 4,
   "id": "081748a5-90d9-4cd3-b6d5-4075f86497a3",
   "metadata": {},
   "outputs": [],
   "source": [
    "const content = `\n",
    "On two occasions, I have been asked [by members of Parliament], 'Pray, Mr. Babbage, if you put into the machine wrong figures, \n",
    "will the right answers come out?' I am not able to rightly apprehend the kind of confusion of ideas that could provoke such a question.\n",
    "`;"
   ]
  },
  {
   "cell_type": "code",
   "execution_count": 10,
   "id": "e2d47e85-075b-46fa-975e-e136824b3bde",
   "metadata": {},
   "outputs": [],
   "source": [
    "const args = { content: content };\n",
    "const modelParams = { model: 'gpt-3.5-turbo' };"
   ]
  },
  {
   "cell_type": "code",
   "execution_count": 11,
   "id": "bbf0e202-4716-47d6-a3fd-9c6ef8a17a42",
   "metadata": {},
   "outputs": [
    {
     "name": "stdout",
     "output_type": "stream",
     "text": [
      "Mr. Babbage was asked if the machine could give right answers with wrong figures, but he couldn't understand the confusion behind the question.\n"
     ]
    }
   ],
   "source": [
    "await ps.execute('summarize', args, modelParams, true);"
   ]
  },
  {
   "cell_type": "markdown",
   "id": "e452b7b6-c3b9-4b92-84be-9a98f49408f6",
   "metadata": {},
   "source": [
    "Alternatively, define a reusable method"
   ]
  },
  {
   "cell_type": "code",
   "execution_count": 7,
   "id": "e9a7e2fe-b3e5-45bd-aec0-7d6dfadf9195",
   "metadata": {},
   "outputs": [],
   "source": [
    "const summarize = ps.addFunction('summarize', modelParams, true);"
   ]
  },
  {
   "cell_type": "code",
   "execution_count": 8,
   "id": "d0fdb7c4-3182-48da-9eae-4a205bf27fcf",
   "metadata": {},
   "outputs": [
    {
     "name": "stdout",
     "output_type": "stream",
     "text": [
      "Mr. Babbage was asked if the machine would give the right answers if wrong figures were put in, but he couldn't understand why someone would ask such a confusing question.\n"
     ]
    }
   ],
   "source": [
    "await summarize(args);"
   ]
  },
  {
   "cell_type": "code",
   "execution_count": null,
   "id": "a5f77f99-8f97-49e4-b89d-74d6b4f4f0d8",
   "metadata": {},
   "outputs": [],
   "source": []
  }
 ],
 "metadata": {
  "kernelspec": {
   "display_name": "TypeScript",
   "language": "typescript",
   "name": "tslab"
  },
  "language_info": {
   "codemirror_mode": {
    "mode": "typescript",
    "name": "javascript",
    "typescript": true
   },
   "file_extension": ".ts",
   "mimetype": "text/typescript",
   "name": "typescript",
   "version": "3.7.2"
  }
 },
 "nbformat": 4,
 "nbformat_minor": 5
}
