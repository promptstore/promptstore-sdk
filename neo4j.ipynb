{
 "cells": [
  {
   "cell_type": "code",
   "execution_count": null,
   "id": "9189ac41-e19e-4b58-9378-fef6e82667b0",
   "metadata": {},
   "outputs": [],
   "source": [
    "!pip install neo4j"
   ]
  },
  {
   "cell_type": "code",
   "execution_count": null,
   "id": "b4053f66-68c0-400a-84a7-a427e0cf7f32",
   "metadata": {},
   "outputs": [],
   "source": [
    "import requests\n",
    "from neo4j import GraphDatabase"
   ]
  },
  {
   "cell_type": "code",
   "execution_count": null,
   "id": "4a7867ca-35da-4dd4-b7ff-1bcb6e0324cb",
   "metadata": {},
   "outputs": [],
   "source": [
    "url = 'neo4j://localhost:7687'\n",
    "driver = GraphDatabase.driver(url, auth=('neo4j', 'changeme'))\n",
    "driver.verify_connectivity()"
   ]
  },
  {
   "cell_type": "code",
   "execution_count": null,
   "id": "58fc68df-61a5-48ff-a5b0-e0f6eb308586",
   "metadata": {},
   "outputs": [],
   "source": [
    "import_url = 'https://gist.githubusercontent.com/tomasonjo/08dc8ba0e19d592c4c3cde40dd6abcc3/raw/e90b0c9386bf8be15b199e8ac8f83fc265a2ac57/microservices.json'\n",
    "import_query = requests.get(import_url).json()['query']\n",
    "with driver.session(database='neo4j') as session:\n",
    "    session.run(import_query)\n",
    "    session.close()"
   ]
  },
  {
   "cell_type": "code",
   "execution_count": null,
   "id": "e184f269-da98-4e80-b7f8-fa2ae3b31693",
   "metadata": {},
   "outputs": [],
   "source": [
    "r = driver.execute_query('MATCH (n:Person) RETURN n LIMIT 25')\n",
    "for rec in r.records:\n",
    "    print(rec[\"n\"][\"name\"])"
   ]
  },
  {
   "cell_type": "code",
   "execution_count": null,
   "id": "df37e265-b2b9-45f9-b902-c144efcf1ed2",
   "metadata": {},
   "outputs": [],
   "source": [
    "index_name='tasks'\n",
    "node_label=\"Task\"\n",
    "text_node_properties=['name', 'description', 'status']\n",
    "embedding_node_property='embedding'\n",
    "embedding_dimension=1536\n",
    "similarity_metric='cosine'"
   ]
  },
  {
   "cell_type": "code",
   "execution_count": null,
   "id": "d4f2d0bc-6db9-4462-9e8d-3689d9b0f336",
   "metadata": {},
   "outputs": [],
   "source": [
    "retrieval_query = (\n",
    "                f\"RETURN reduce(str='', k IN {text_node_properties} |\"\n",
    "                \" str + '\\\\n' + k + ': ' + coalesce(node[k], '')) AS text, \"\n",
    "                \"node {.*, `\"\n",
    "                + embedding_node_property\n",
    "                + \"`: Null, id: Null, \"\n",
    "                + \", \".join([f\"`{prop}`: Null\" for prop in text_node_properties])\n",
    "                + \"} AS metadata, score\"\n",
    ")"
   ]
  },
  {
   "cell_type": "code",
   "execution_count": null,
   "id": "a2055ffc-1318-4284-919f-821bb687f206",
   "metadata": {},
   "outputs": [],
   "source": [
    "retrieval_query"
   ]
  },
  {
   "cell_type": "code",
   "execution_count": null,
   "id": "f0383550-3c4a-4046-bfd0-156a088ea312",
   "metadata": {},
   "outputs": [],
   "source": [
    "r = driver.execute_query(\n",
    "    \"SHOW INDEXES YIELD name, type, labelsOrTypes, properties, options \"\n",
    "    \"WHERE type = 'VECTOR' AND (name = $index_name \"\n",
    "    \"OR (labelsOrTypes[0] = $node_label AND \"\n",
    "    \"properties[0] = $embedding_node_property)) \"\n",
    "    \"RETURN name, labelsOrTypes, properties, options \",\n",
    "    {\n",
    "        \"index_name\": index_name,\n",
    "        \"node_label\": node_label,\n",
    "        \"embedding_node_property\": embedding_node_property,\n",
    "    }\n",
    ")"
   ]
  },
  {
   "cell_type": "code",
   "execution_count": null,
   "id": "3d7b1e28-33b0-43f1-b0ed-c88f1d64e331",
   "metadata": {},
   "outputs": [],
   "source": [
    "r.records"
   ]
  },
  {
   "cell_type": "code",
   "execution_count": null,
   "id": "9cc206fc-ee5a-4656-b402-a315e52ef9dc",
   "metadata": {},
   "outputs": [],
   "source": [
    "r = driver.execute_query(\n",
    "    \"CALL db.index.vector.createNodeIndex(\"\n",
    "    \"$index_name,\"\n",
    "    \"$node_label,\"\n",
    "    \"$embedding_node_property,\"\n",
    "    \"toInteger($embedding_dimension),\"\n",
    "    \"$similarity_metric )\",\n",
    "    {\n",
    "        \"index_name\": index_name,\n",
    "        \"node_label\": node_label,\n",
    "        \"embedding_node_property\": embedding_node_property,\n",
    "        \"embedding_dimension\": embedding_dimension,\n",
    "        \"similarity_metric\": similarity_metric,\n",
    "    }\n",
    ")"
   ]
  },
  {
   "cell_type": "code",
   "execution_count": null,
   "id": "89814992-c7ac-4d93-8957-8404aab9a684",
   "metadata": {},
   "outputs": [],
   "source": [
    "r.summary"
   ]
  },
  {
   "cell_type": "code",
   "execution_count": null,
   "id": "ae9b7607-93ee-476a-80d1-0e85446b4e0c",
   "metadata": {},
   "outputs": [],
   "source": [
    "fetch_query = (\n",
    "                f\"MATCH (n:`{node_label}`) \"\n",
    "                f\"WHERE n.{embedding_node_property} IS null \"\n",
    "                \"AND any(k in $props WHERE n[k] IS NOT null) \"\n",
    "                f\"RETURN elementId(n) AS id, reduce(str='',\"\n",
    "                \"k IN $props | str + '\\\\n' + k + ':' + coalesce(n[k], '')) AS text \"\n",
    "                \"LIMIT 1000\"\n",
    "            )"
   ]
  },
  {
   "cell_type": "code",
   "execution_count": null,
   "id": "57012df0-5e5b-4adb-8f7a-1aa2fb1bbc1b",
   "metadata": {},
   "outputs": [],
   "source": [
    "fetch_query"
   ]
  },
  {
   "cell_type": "code",
   "execution_count": null,
   "id": "063ebc7e-19fa-4936-bfb8-03440d3054a4",
   "metadata": {},
   "outputs": [],
   "source": [
    "r = driver.execute_query(fetch_query, { \"props\": text_node_properties })"
   ]
  },
  {
   "cell_type": "code",
   "execution_count": null,
   "id": "558ccf51-7fdd-443a-8c67-33d6111d5b22",
   "metadata": {},
   "outputs": [],
   "source": [
    "r.records"
   ]
  },
  {
   "cell_type": "code",
   "execution_count": null,
   "id": "a24ee939-37d1-4884-b778-47793937f912",
   "metadata": {},
   "outputs": [],
   "source": [
    "for row in r.records:\n",
    "    print(row[\"text\"])"
   ]
  },
  {
   "cell_type": "code",
   "execution_count": null,
   "id": "b52e1e7d-6fbd-4253-9cbf-82e2d0a4a2ec",
   "metadata": {},
   "outputs": [],
   "source": []
  }
 ],
 "metadata": {
  "kernelspec": {
   "display_name": "Python 3 (ipykernel)",
   "language": "python",
   "name": "python3"
  },
  "language_info": {
   "codemirror_mode": {
    "name": "ipython",
    "version": 3
   },
   "file_extension": ".py",
   "mimetype": "text/x-python",
   "name": "python",
   "nbconvert_exporter": "python",
   "pygments_lexer": "ipython3",
   "version": "3.8.17"
  }
 },
 "nbformat": 4,
 "nbformat_minor": 5
}
